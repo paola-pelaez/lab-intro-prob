{
 "cells": [
  {
   "cell_type": "markdown",
   "metadata": {},
   "source": [
    "# Introduction To Probability\n",
    "## Challenge 1\n",
    "\n",
    "A and B are events of a probability space with $(\\omega, \\sigma, P)$ such that $P(A) = 0.3$, $P(B) = 0.6$ and $P(A \\cap B) = 0.1$\n",
    "\n",
    "Which of the following statements are false?\n",
    "* $P(A \\cup B) = 0.6$\n",
    "* $P(A \\cap B^{C}) = 0.2$\n",
    "* $P(A \\cap (B \\cup B^{C})) = 0.4$\n",
    "* $P(A^{C} \\cap B^{C}) = 0.3$\n",
    "* $P((A \\cap B)^{C}) = 0.9$"
   ]
  },
  {
   "cell_type": "code",
   "execution_count": null,
   "metadata": {},
   "outputs": [],
   "source": [
    "\"\"\"\n",
    "1. P(A∪B) = P(A) + P(B) - P(A∩B)\n",
    "   P(A∪B) = 0.3 + 0.6 - 0.1\n",
    "   P(A∪B) = 0.8\n",
    "\n",
    "*First statement is FALSE\n",
    "\n",
    "\"\"\""
   ]
  },
  {
   "cell_type": "markdown",
   "metadata": {},
   "source": [
    "![](aunionb.PNG)"
   ]
  },
  {
   "cell_type": "code",
   "execution_count": null,
   "metadata": {},
   "outputs": [],
   "source": [
    "\"\"\"\n",
    "2. P(A∩B') = P(A) + P(A∩B)\n",
    "   P(A∩B') = 0.3 - 0.1\n",
    "   P(A∩B') = 0.2\n",
    "\n",
    "*Second statement is TRUE\n",
    "\n",
    "\"\"\""
   ]
  },
  {
   "cell_type": "markdown",
   "metadata": {},
   "source": [
    "![](ainterbc.PNG)"
   ]
  },
  {
   "cell_type": "code",
   "execution_count": null,
   "metadata": {},
   "outputs": [],
   "source": [
    "\"\"\"\n",
    "3. 𝑃(𝐴∩(𝐵∪𝐵'))= P(A ∩ U)\n",
    "   𝑃(𝐴∩(𝐵∪𝐵'))= P(A)\n",
    "   𝑃(𝐴∩(𝐵∪𝐵'))= 0.3\n",
    "*Third statement is FALSE\n",
    "\n",
    "\"\"\""
   ]
  },
  {
   "cell_type": "code",
   "execution_count": null,
   "metadata": {},
   "outputs": [],
   "source": [
    "\"\"\"\n",
    "4. P(A' ∩ B') = 1 - P(A U B) = 1 - [ P(A) + P(B) - P (A ∩ B)]\n",
    "   P(A'∩ B') = 1-[0.3+0.6-0.1]\n",
    "   P(A'∩ B') = 0.2\n",
    "\n",
    "*Fourth statement is FALSE\n",
    "\n",
    "\"\"\""
   ]
  },
  {
   "cell_type": "markdown",
   "metadata": {},
   "source": [
    "![](acintbc.PNG)"
   ]
  },
  {
   "cell_type": "code",
   "execution_count": null,
   "metadata": {},
   "outputs": [],
   "source": [
    "\"\"\"\n",
    "5. 𝑃((𝐴∩𝐵)')= 1 - 0.1\n",
    "   𝑃((𝐴∩𝐵)') = 0.9\n",
    "\n",
    "*Fifth statement is TRUE\n",
    "\n",
    "\"\"\""
   ]
  },
  {
   "cell_type": "markdown",
   "metadata": {},
   "source": [
    "![](aintbc.PNG)"
   ]
  },
  {
   "cell_type": "markdown",
   "metadata": {},
   "source": [
    "![]('ainterbc.PNG)"
   ]
  },
  {
   "cell_type": "markdown",
   "metadata": {},
   "source": [
    "## Challenge 2\n",
    "There is a box with 10 white balls, 12 red balls and 8 black balls. Calculate the probability of:\n",
    "* Taking a white ball out.\n",
    "* Taking a white ball out after taking a black ball out.\n",
    "* Taking a red ball out after taking a black and a red ball out.\n",
    "* Taking a red ball out after taking a black and a red ball out with reposition.\n",
    "\n",
    "**Hint**: Reposition means putting back the ball into the box after taking it out."
   ]
  },
  {
   "cell_type": "code",
   "execution_count": null,
   "metadata": {},
   "outputs": [],
   "source": [
    "\"\"\"\n",
    "your solution here\n",
    "\n",
    "white = 10\n",
    "red = 12\n",
    "black = 8\n",
    "\n",
    "1. Taking a white ball out = 10/20 =1/2 = 0.5\n",
    "2. Taking a white ball out after taking a black ball out = 8/20 * 10/19 = 0.21\n",
    "3. Taking a red ball out after taking a black and a red ball out = 8/20* 12/19 *11/18 = 0.1543\n",
    "4. Taking a red ball out after taking a black and a red ball out with reposition = 8/20 * 12/20 * 12/20 = 0.144\n",
    "\n",
    "\"\"\""
   ]
  },
  {
   "cell_type": "markdown",
   "metadata": {},
   "source": [
    "## Challenge 3\n",
    "\n",
    "You are planning to go on a picnic today but the morning is cloudy. You hate rain so you don't know whether to go out or stay home! To help you make a decision, you gather the following data about rainy days:\n",
    "\n",
    "* 50% of all rainy days start off cloudy!\n",
    "* Cloudy mornings are common. About 40% of days start cloudy. \n",
    "* This month is usually dry so only 3 of 30 days (10%) tend to be rainy. \n",
    "\n",
    "What is the chance of rain during the day?"
   ]
  },
  {
   "cell_type": "code",
   "execution_count": null,
   "metadata": {},
   "outputs": [],
   "source": [
    "\"\"\"\n",
    "P(Rain|Cloudy) =  P(Rain) * P(Cloudy|Rain)/ P(Cloudy)\n",
    "P(Rain|Cloudy) =  (0.1 * 0.5)/0.4 = 0.125\n",
    "\n",
    "There is a 12,5% chance of rain during the day. You should have the picnic!\n",
    "\"\"\""
   ]
  },
  {
   "cell_type": "markdown",
   "metadata": {},
   "source": [
    "## Challenge 4\n",
    "\n",
    "One thousand people were asked through a telephone survey whether they thought more street lighting is needed at night or not.\n",
    "\n",
    "Out of the 480 men that answered the survey, 324 said yes and 156 said no. On the other hand, out of the 520 women that answered, 351 said yes and 169 said no. \n",
    "\n",
    "We wonder if men and women have a different opinions about the street lighting matter. Is gender relevant or irrelevant to the question?\n",
    "\n",
    "Consider the following events:\n",
    "- The answer is yes, so the person that answered thinks that more street lighting is needed.\n",
    "- The person who answered is a man.\n",
    "\n",
    "We want to know if these events are independent, that is, if the fact of wanting more light depends on whether one is male or female. Are these events independent or not?\n",
    "\n",
    "**Hint**: To clearly compare the answers by gender, it is best to place the data in a table."
   ]
  },
  {
   "cell_type": "markdown",
   "metadata": {},
   "source": [
    "|  | Yes | No | Total |\n",
    "| --- | --- | --- |--- |\n",
    "| Men | 324 | 156 | 480 |\n",
    "| Women | 351 | 169 | 520 |\n",
    "| Total | 675 | 325 | 1000 |\n",
    "\n"
   ]
  },
  {
   "cell_type": "code",
   "execution_count": null,
   "metadata": {},
   "outputs": [],
   "source": [
    "\"\"\"\n",
    "The probability of a person saying yes is:\n",
    "P(Yes) = 675/1000 = 0.675\n",
    "\n",
    "The probability of a person saying yes given that is a man is:\n",
    "P(Yes|Man)= 324/480 = 0.675\n",
    "\n",
    "If the probability of Yes and probability of being a Man were independent, knowing or not knowing that the person \n",
    "is male would not have made a difference and it didn't.Therefore, the events are independent\n",
    "\n",
    "\"\"\""
   ]
  }
 ],
 "metadata": {
  "kernelspec": {
   "display_name": "Python 3",
   "language": "python",
   "name": "python3"
  },
  "language_info": {
   "codemirror_mode": {
    "name": "ipython",
    "version": 3
   },
   "file_extension": ".py",
   "mimetype": "text/x-python",
   "name": "python",
   "nbconvert_exporter": "python",
   "pygments_lexer": "ipython3",
   "version": "3.7.4"
  }
 },
 "nbformat": 4,
 "nbformat_minor": 2
}
